{
 "cells": [
  {
   "cell_type": "markdown",
   "metadata": {},
   "source": [
    "# Code to measure Entangling capacity of any Parameterized Quantum Circuit"
   ]
  },
  {
   "cell_type": "markdown",
   "metadata": {},
   "source": [
    "Sim et.al. in [1] proposed three metrics to represent Ansatz quality of variational circuits namely: Expressibility, Entangling capacity and circuit cost. This notebook implements the Entangling capacity metric that is very useful for any parameterized quantum circuit (or ansatz) for any variational quantum algorithm. While for some domain like physics or chemistry, there are domain-inspired ansatzes, for all other applications the choice of circuits is heuristic-based. With metrics like entangling capacity we can do correlation studies between such metrics and accuracy or precision-recall of an application and accordingly choose an ansatz for the variational algorithm in consideration for that application.\n",
    "\n",
    "In this notebook we have implemented these metrics and matched our numbers to that of this paper. We have two ways to compute Entangling capacity -using Meyer Wallach measure (as proposed in the paper[1]) and Von-Neumann measure."
   ]
  },
  {
   "cell_type": "code",
   "execution_count": 1,
   "metadata": {},
   "outputs": [
    {
     "name": "stderr",
     "output_type": "stream",
     "text": [
      "/opt/anaconda3/envs/qiskit/lib/python3.6/site-packages/qiskit/__init__.py:66: DeprecationWarning: Using Qiskit with Python 3.6 is deprecated as of qiskit-terra 0.17.0. Support for running Qiskit with Python 3.6 will be removed in qiskit-terra 0.20.0.\n",
      "  DeprecationWarning,\n"
     ]
    }
   ],
   "source": [
    "from qiskit.quantum_info import partial_trace, Statevector\n",
    "from parametric_circuits import Ansatz\n",
    "from qiskit import QuantumCircuit\n",
    "import qiskit.quantum_info as qi\n",
    "from qiskit import transpile\n",
    "from qiskit import Aer\n",
    "import numpy as np\n",
    "import pandas as pd\n",
    "import matplotlib.pyplot as plt\n"
   ]
  },
  {
   "cell_type": "markdown",
   "metadata": {},
   "source": [
    "The following cell implements entangling capacity using meyer-wallach measure for a statevector. It expects as input the statevector of $n$ qubits and the total number of qubits $n$ for calculating the the entangling capacity of a particular statevector using Meyer Wallach Measure.\n",
    "Meyer Wallach measure (this measure is also know as average bipartite entanglement measurement) and is defined by \n",
    "$\n",
    "\\begin{equation}\n",
    "    \\mathcal{Q}(|\\psi\\rangle) = 2 - \\frac{2}{n}\\sum_{i =1}^{n}Tr(\\rho_i^2)\n",
    "\\end{equation}\n",
    "$\n",
    "The above equation is the entanglement measurement over just one statevector of the system to get the entangling capability of a parameteric quantum circuit as given in paper[1], we sample over several iteration with different random parameters for the parametric gates and average it to the get the expectation of the entangling capability of the circuit with respect to Meyer - Wallach Measure.\n",
    "The key properties of using Meyer Wallach measure to calculate entangling capacity metric :\n",
    "\n",
    " 1. The value $\\mathcal{Q}$ is invariant under local unitaries.\n",
    " 2. It assumes it values between the range $0 \\ge \\mathcal{Q} \\le 1 $.\n",
    " 3. $\\mathcal{Q}(|\\psi\\rangle) = 0$ if and only if $|\\psi\\rangle$ is a product state.\n",
    "\n",
    " The Meyer-Wallach Measure find its application in quantum information processing due to following advantages:\n",
    " 1. Due to its nature its a average linear entropy over reduced qubits state i.e. $\\mathcal{Q} = \\{1 - tr\\{\\rho^2\\}\\}$, making it a standard measure over different applications and easy to compare  and comprehend values due to its linear scaling.\n",
    " 2. The Meyer-Wallach Measure can be applied as a tool for tracking convergence of pseudo-random circuit by comparing the Meyer Wallach Measure with respect to the the Haar Value(The average entanglement of Pseudo Random states $\\langle \\mathcal{Q}_R \\rangle$).\n",
    " 3. The Meyer-Wallach Measure gives us the global entanglement over the entire statevector. The average over the Parametric Quantum Circuit gives use the measure of the circuit give a quantification of the toal type and number of entangles states a particular circuit can generate.\n"
   ]
  },
  {
   "cell_type": "code",
   "execution_count": 2,
   "metadata": {},
   "outputs": [],
   "source": [
    "def compute_ptrace(ket: np.ndarray, num_qubits: int) -> float:\n",
    "    \"\"\"Return the values of entanglement capability using meyer-wallach measure.\n",
    "    Args:\n",
    "        ket : (numpy.ndarray or list);Vector of amplitudes in 2**N dimensions\n",
    "        num_qubits : (int)Number of qubits\n",
    "\n",
    "    Returns:\n",
    "        q: float; Q value for input ket\n",
    "    \"\"\"\n",
    "    \n",
    "\n",
    "    entanglement_sum = 0\n",
    "    for k in range(num_qubits):\n",
    "\n",
    "        trace_over = [q for q in range(num_qubits) if q != k]\n",
    "        rho_k = partial_trace(ket, trace_over).data\n",
    "        entanglement_sum += np.real((np.linalg.matrix_power(rho_k, 2)).trace())\n",
    "\n",
    "    q = 2 * (1 - (1 / num_qubits) * entanglement_sum)\n",
    "\n",
    "    return q\n"
   ]
  },
  {
   "cell_type": "markdown",
   "metadata": {},
   "source": [
    "The following cell implements entangling capacity using Von-Neumann entropy measure. It expects as input the statevector of $n$ qubits and the total number of qubits $n$ for calculating the the entangling capacity of a particular statevector using Von-Neumann Measure.\n",
    "Von-Neumann Measure measure (this measure is also know as Von-Neumann Shanon Entropy) and is defined by \n",
    "$\n",
    "\\begin{equation}\n",
    "    \\mathcal{Q}(|\\psi\\rangle) = -\\sum_{i=1}^{n}Tr\\{\\rho_i log_e (\\rho_i)\\}\n",
    "\\end{equation}\n",
    "$\n",
    "The Von-Neumann Measure find its application in quantum information processing due to following advantages:\n",
    "1. It gives the  local entanglement measure of each qubit by taking the partial trace of reduce density matric given an average over the entanglement capability over the different qubits in a particular statevector.\n",
    "2. This measure give different measure for different kinds of entanglement for e.g. $|\\psi\\rangle = \\frac{|00\\rangle_{1,2}+|11\\rangle_{1,2}}{\\sqrt{2}}\\otimes\\frac{|00\\rangle_{3,4}+|11\\rangle_{3,4}}{\\sqrt{2}}$ and the four qubit $GHZ$ state, the four qubit GHZ state give us a higher entanglement measure in the von-neumann measure as compared to Meyer-Wallach measure(which give 1 for both the states.). Hence, it is better able to distinguish between the different kinds of entanglement.\n"
   ]
  },
  {
   "cell_type": "code",
   "execution_count": 3,
   "metadata": {},
   "outputs": [],
   "source": [
    "def compute_vn_entropy(ket: np.ndarray, num_qubits: int) -> float:\n",
    "    \"\"\"Returns the entangling capabilility using von-neumann entropy.\n",
    "    Args:\n",
    "        ket : (numpy.ndarray or list);Vector of amplitudes in 2**N dimensions\n",
    "        num_qubits : (int)Number of qubits\n",
    "\n",
    "    Returns:\n",
    "        q: float; Q value for input ket\n",
    "    \"\"\"\n",
    "\n",
    "\n",
    "    qubit = list(range(num_qubits))  # list of qubits to trace over\n",
    "\n",
    "    vn_entropy = 0\n",
    "\n",
    "    for k in range(num_qubits):\n",
    "        rho_k = qi.partial_trace(ket, qubit[:k] + qubit[k + 1 :]).data\n",
    "        vn_entropy += qi.entropy(rho_k, base=np.exp(1))\n",
    "    q = vn_entropy / num_qubits\n",
    "    return q"
   ]
  },
  {
   "cell_type": "markdown",
   "metadata": {},
   "source": [
    "The following cells computes entanglement capacity given a parametric circuit, using Meyer Wallach Measure by sampling over different parameter values of the parametric quantum gates to give us an average measure of the Meyer Wallach measure we can expect from a particular parametric quantum circuit.\n",
    "The function takes as input the total no. of parameters which is also the number of samples , the parametric circuit whose entanglement measure we want to calculate and the backend which we want to use.\n",
    "Note: We can only use statevector backend to calculate the Entanglement measures."
   ]
  },
  {
   "cell_type": "code",
   "execution_count": 4,
   "metadata": {},
   "outputs": [],
   "source": [
    "def meyer_wallach(num_params, feature_dim, layers, circuit_id) -> float:\n",
    "        \"\"\"\n",
    "        Returns:\n",
    "                net_entanglement_cap: The meyer-wallach entangling capacity of the\n",
    "                                       given parametric circuit.\n",
    "        \"\"\"\n",
    "\n",
    "        entanglement_cap = []\n",
    "\n",
    "        for _ in range(num_params):\n",
    "            \n",
    "            parametric_circuit = Ansatz(layers + 1, feature_dim, circuit_id).get_ansatz()\n",
    "            # transpiled_circ = transpile(parametric_circuit, backend, optimization_level=3)\n",
    "            # job_sim = backend.run(transpiled_circ)\n",
    "            # result_sim = job_sim.result()\n",
    "\n",
    "            state_vector = Statevector(parametric_circuit)\n",
    "            state_vector = np.array(state_vector)\n",
    "\n",
    "            q_value = compute_ptrace(ket=state_vector, num_qubits=feature_dim)\n",
    "            entanglement_cap.append(q_value)\n",
    "\n",
    "        entanglement_cap = np.array(entanglement_cap)\n",
    "        net_entanglement_cap = np.sum(entanglement_cap) / num_params\n",
    "\n",
    "        return net_entanglement_cap"
   ]
  },
  {
   "cell_type": "markdown",
   "metadata": {},
   "source": [
    "The following cells computes entanglement capacity given a parametric circuit, using Von-Neumann Measure by sampling over different parameter values of the parametric quantum gates to give us an average measure of the Von-Neumann measure we can expect from a particular parametric quantum circuit.\n",
    "The function takes as input the total no. of parameters which is also the number of samples , the parametric circuit whose entanglement measure we want to calculate and the backend which we want to use.\n",
    "Note: We can only use statevector backend to calculate the Entanglement measures."
   ]
  },
  {
   "cell_type": "code",
   "execution_count": 5,
   "metadata": {},
   "outputs": [],
   "source": [
    "def von_neumann(num_params,  feature_dim, layers, circuit_id) -> float:\n",
    "\n",
    "        \"\"\"\n",
    "        Returns:\n",
    "              net_entanglement_cap: The von_neumann entangling capacity of the given parametric circuit.\n",
    "        \"\"\"\n",
    "\n",
    "        entanglement_cap = []\n",
    "\n",
    "        for _ in range(num_params):\n",
    "\n",
    "            parametric_circuit = Ansatz(layers + 1, feature_dim, circuit_id).get_ansatz()\n",
    "            # transpiled_circ = transpile(parametric_circuit, backend, optimization_level=3)\n",
    "            # job_sim = backend.run(transpiled_circ)\n",
    "            # result_sim = job_sim.result()\n",
    "\n",
    "            # state_vector = result_sim.get_statevector(transpiled_circ)\n",
    "            state_vector = Statevector(parametric_circuit).data\n",
    "            state_vector = np.array(state_vector)\n",
    "\n",
    "            q_value = compute_vn_entropy(ket=state_vector, num_qubits=feature_dim)\n",
    "            entanglement_cap.append(q_value)\n",
    "\n",
    "        entanglement_cap = np.array(entanglement_cap)\n",
    "        net_entanglement_cap = np.sum(entanglement_cap) / num_params\n",
    "\n",
    "        return net_entanglement_cap"
   ]
  },
  {
   "cell_type": "markdown",
   "metadata": {},
   "source": [
    "the following cell shows how to create a parametric quantum circuit and measure its entangling capacity"
   ]
  },
  {
   "cell_type": "code",
   "execution_count": 6,
   "metadata": {},
   "outputs": [],
   "source": [
    "feature_dim = 4\n",
    "repitition = 2\n",
    "\n",
    "# # Defining Custom Parametric Quantum Circuit for its entanglement capability measurement\n",
    "num_pars = feature_dim * repitition\n",
    "paravec = np.random.randn(num_pars)\n",
    "arg_count = 0\n",
    "circ = QuantumCircuit(feature_dim)\n",
    "for _ in range(repitition):\n",
    "    for i in range(feature_dim):\n",
    "        circ.h(i)\n",
    "    for i in reversed(range(feature_dim - 1)):\n",
    "        circ.cz(i + 1, i)\n",
    "    for i in range(feature_dim):\n",
    "        circ.rx(paravec[arg_count], i)\n",
    "        arg_count += 1\n",
    "        \n",
    "backend = Aer.get_backend(\"statevector_simulator\")\n",
    "ent_cap = meyer_wallach(num_params = 500, parametric_circuit = circ, backend=backend, feature_dim = feature_dim)\n",
    "print(\"ent_cap:\", ent_cap)\n",
    "circ.draw(\"mpl\")"
   ]
  },
  {
   "cell_type": "markdown",
   "metadata": {},
   "source": [
    "In order to be able to reproduce the results of the paper [1], we provide an additional code ansatz.py which has the 19 parameterized quantum circuits given in the paper. The following cell calculates the entanglinhg capacity of all the 19 circuits. \n",
    "circuit_id can be used if a particular ansatz from the benchmarked ansatz is required. else we can do it for all ansatzes of that code.\n",
    "\n",
    "feature dim: refers to the number of features in the input data. this is important to know as this determines the number of qubits in the circuit for Z and ZZ feature map. \n",
    "\n",
    "repetition: refers to the number of layers of ansatz required. Note: deeper ansatz get more noisy and circuit depth impacts results.\n",
    "\n",
    "num_eval: refers to the number of runs needed for the circuits. "
   ]
  },
  {
   "cell_type": "code",
   "execution_count": 7,
   "metadata": {},
   "outputs": [],
   "source": [
    "from parametric_circuits import Ansatz\n",
    "import numpy as np\n",
    "from qiskit import Aer\n",
    "import pandas as pd\n",
    "\n",
    "\n",
    "total_circuit = 10\n",
    "feature_dim = 4\n",
    "repitition = 5\n",
    "# num_eval = 1\n",
    "# entanglement_cap = np.zeros((total_circuit, repitition))\n",
    "# backend = Aer.get_backend(\"statevector_simulator\")\n",
    "entanglement_cap = np.zeros((total_circuit, repitition))\n",
    "\n",
    "\n",
    "for i in range(total_circuit):\n",
    "    circuit_id = i + 1\n",
    "\n",
    "    for layers in range(repitition):\n",
    "\n",
    "        # ansatze = Ansatz(layers + 1, feature_dim, circuit_id).get_ansatz()\n",
    "        ent_cap = meyer_wallach(num_params = 100, feature_dim = feature_dim, layers = layers, circuit_id = circuit_id)\n",
    "        entanglement_cap[i, layers] = ent_cap\n",
    "# df = pd.DataFrame(entanglement_cap)\n",
    "index = [\"Ansatz \"+str(i+1) for i in range(total_circuit)]\n",
    "df = pd.DataFrame({'Layer1':entanglement_cap[:,0], \"Layer2\":entanglement_cap[:,1], \"Layer3\":entanglement_cap[:,2],\n",
    "                   \"Layer4\":entanglement_cap[:,3],\"Layer5\":entanglement_cap[:,4]}, index = index)\n",
    "file_name = \"entropy_run_5_Layers\" \n",
    "df.to_csv(file_name + \".csv\")"
   ]
  },
  {
   "cell_type": "code",
   "execution_count": 8,
   "metadata": {},
   "outputs": [
    {
     "data": {
      "text/html": [
       "<div>\n",
       "<style scoped>\n",
       "    .dataframe tbody tr th:only-of-type {\n",
       "        vertical-align: middle;\n",
       "    }\n",
       "\n",
       "    .dataframe tbody tr th {\n",
       "        vertical-align: top;\n",
       "    }\n",
       "\n",
       "    .dataframe thead th {\n",
       "        text-align: right;\n",
       "    }\n",
       "</style>\n",
       "<table border=\"1\" class=\"dataframe\">\n",
       "  <thead>\n",
       "    <tr style=\"text-align: right;\">\n",
       "      <th></th>\n",
       "      <th>Unnamed: 0</th>\n",
       "      <th>Layer1</th>\n",
       "      <th>Layer2</th>\n",
       "      <th>Layer3</th>\n",
       "      <th>Layer4</th>\n",
       "      <th>Layer5</th>\n",
       "    </tr>\n",
       "  </thead>\n",
       "  <tbody>\n",
       "    <tr>\n",
       "      <th>0</th>\n",
       "      <td>Ansatz 1</td>\n",
       "      <td>1.110223e-16</td>\n",
       "      <td>2.686740e-16</td>\n",
       "      <td>-8.659740e-17</td>\n",
       "      <td>-1.043610e-15</td>\n",
       "      <td>-2.109424e-16</td>\n",
       "    </tr>\n",
       "    <tr>\n",
       "      <th>1</th>\n",
       "      <td>Ansatz 2</td>\n",
       "      <td>5.518810e-01</td>\n",
       "      <td>6.161381e-01</td>\n",
       "      <td>7.090022e-01</td>\n",
       "      <td>6.901093e-01</td>\n",
       "      <td>6.817991e-01</td>\n",
       "    </tr>\n",
       "    <tr>\n",
       "      <th>2</th>\n",
       "      <td>Ansatz 3</td>\n",
       "      <td>5.081048e-02</td>\n",
       "      <td>1.023349e-01</td>\n",
       "      <td>1.817287e-01</td>\n",
       "      <td>2.027665e-01</td>\n",
       "      <td>2.252655e-01</td>\n",
       "    </tr>\n",
       "    <tr>\n",
       "      <th>3</th>\n",
       "      <td>Ansatz 4</td>\n",
       "      <td>9.809743e-02</td>\n",
       "      <td>1.749607e-01</td>\n",
       "      <td>2.627936e-01</td>\n",
       "      <td>3.270227e-01</td>\n",
       "      <td>3.821887e-01</td>\n",
       "    </tr>\n",
       "    <tr>\n",
       "      <th>4</th>\n",
       "      <td>Ansatz 5</td>\n",
       "      <td>2.044597e-01</td>\n",
       "      <td>3.857247e-01</td>\n",
       "      <td>3.843099e-01</td>\n",
       "      <td>4.536308e-01</td>\n",
       "      <td>4.242698e-01</td>\n",
       "    </tr>\n",
       "    <tr>\n",
       "      <th>5</th>\n",
       "      <td>Ansatz 6</td>\n",
       "      <td>2.961569e-01</td>\n",
       "      <td>3.885034e-01</td>\n",
       "      <td>4.799660e-01</td>\n",
       "      <td>5.046877e-01</td>\n",
       "      <td>5.486664e-01</td>\n",
       "    </tr>\n",
       "    <tr>\n",
       "      <th>6</th>\n",
       "      <td>Ansatz 7</td>\n",
       "      <td>7.901221e-02</td>\n",
       "      <td>1.573624e-01</td>\n",
       "      <td>2.324266e-01</td>\n",
       "      <td>3.017718e-01</td>\n",
       "      <td>3.389208e-01</td>\n",
       "    </tr>\n",
       "    <tr>\n",
       "      <th>7</th>\n",
       "      <td>Ansatz 8</td>\n",
       "      <td>1.048136e-01</td>\n",
       "      <td>2.056979e-01</td>\n",
       "      <td>2.846144e-01</td>\n",
       "      <td>3.495824e-01</td>\n",
       "      <td>4.002563e-01</td>\n",
       "    </tr>\n",
       "    <tr>\n",
       "      <th>8</th>\n",
       "      <td>Ansatz 9</td>\n",
       "      <td>1.000000e+00</td>\n",
       "      <td>1.000000e+00</td>\n",
       "      <td>1.000000e+00</td>\n",
       "      <td>6.243504e-01</td>\n",
       "      <td>6.943148e-01</td>\n",
       "    </tr>\n",
       "    <tr>\n",
       "      <th>9</th>\n",
       "      <td>Ansatz 10</td>\n",
       "      <td>3.293462e-01</td>\n",
       "      <td>6.754697e-01</td>\n",
       "      <td>8.012094e-01</td>\n",
       "      <td>7.202340e-01</td>\n",
       "      <td>7.489826e-01</td>\n",
       "    </tr>\n",
       "  </tbody>\n",
       "</table>\n",
       "</div>"
      ],
      "text/plain": [
       "  Unnamed: 0        Layer1        Layer2        Layer3        Layer4  \\\n",
       "0   Ansatz 1  1.110223e-16  2.686740e-16 -8.659740e-17 -1.043610e-15   \n",
       "1   Ansatz 2  5.518810e-01  6.161381e-01  7.090022e-01  6.901093e-01   \n",
       "2   Ansatz 3  5.081048e-02  1.023349e-01  1.817287e-01  2.027665e-01   \n",
       "3   Ansatz 4  9.809743e-02  1.749607e-01  2.627936e-01  3.270227e-01   \n",
       "4   Ansatz 5  2.044597e-01  3.857247e-01  3.843099e-01  4.536308e-01   \n",
       "5   Ansatz 6  2.961569e-01  3.885034e-01  4.799660e-01  5.046877e-01   \n",
       "6   Ansatz 7  7.901221e-02  1.573624e-01  2.324266e-01  3.017718e-01   \n",
       "7   Ansatz 8  1.048136e-01  2.056979e-01  2.846144e-01  3.495824e-01   \n",
       "8   Ansatz 9  1.000000e+00  1.000000e+00  1.000000e+00  6.243504e-01   \n",
       "9  Ansatz 10  3.293462e-01  6.754697e-01  8.012094e-01  7.202340e-01   \n",
       "\n",
       "         Layer5  \n",
       "0 -2.109424e-16  \n",
       "1  6.817991e-01  \n",
       "2  2.252655e-01  \n",
       "3  3.821887e-01  \n",
       "4  4.242698e-01  \n",
       "5  5.486664e-01  \n",
       "6  3.389208e-01  \n",
       "7  4.002563e-01  \n",
       "8  6.943148e-01  \n",
       "9  7.489826e-01  "
      ]
     },
     "execution_count": 8,
     "metadata": {},
     "output_type": "execute_result"
    }
   ],
   "source": [
    "df = pd.read_csv('entropy_run_5_Layers.csv')\n",
    "df"
   ]
  },
  {
   "cell_type": "markdown",
   "metadata": {},
   "source": [
    "to Plot Entangling Capacity of all 10 circuits across 5 layers. Observe how entangling capacity increases with increasing the mumber of layers which is intuitive as the number of entangling gates also increase"
   ]
  },
  {
   "cell_type": "code",
   "execution_count": 9,
   "metadata": {},
   "outputs": [
    {
     "data": {
      "image/png": "[encoded data removed]",
      "text/plain": [
       "<Figure size 720x576 with 1 Axes>"
      ]
     },
     "metadata": {
      "needs_background": "light"
     },
     "output_type": "display_data"
    }
   ],
   "source": [
    "# import seaborn as sns\n",
    "ax = plt.gca()\n",
    "color = ['green', 'blue', 'orange', 'red', 'yellow']\n",
    "for i in range(5):\n",
    "    df.reset_index().plot.scatter(x = 'index', y = 'Layer'+str(i+1), color = color[i],marker = 'o', label = 'layer '+str(i+1), figsize = (10,8), grid = True, ax = ax)\n",
    "\n",
    "ax.set_xlabel('Circuit Id')\n",
    "ax.set_ylabel('Meyer-Wallach Measure')\n",
    "plt.show()\n",
    "\n"
   ]
  }
 ],
 "metadata": {
  "kernelspec": {
   "display_name": "Python 3",
   "language": "python",
   "name": "python3"
  },
  "language_info": {
   "codemirror_mode": {
    "name": "ipython",
    "version": 3
   },
   "file_extension": ".py",
   "mimetype": "text/x-python",
   "name": "python",
   "nbconvert_exporter": "python",
   "pygments_lexer": "ipython3",
   "version": "3.6.13"
  },
  "vscode": {
   "interpreter": {
    "hash": "7d3b8b0b17a73b27c675ad731f7f973f58a06bce747a783740f7b6d647f60952"
   }
  }
 },
 "nbformat": 4,
 "nbformat_minor": 2
}
