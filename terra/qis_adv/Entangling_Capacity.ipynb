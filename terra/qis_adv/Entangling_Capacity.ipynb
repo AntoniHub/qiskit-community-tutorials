{
 "cells": [
  {
   "cell_type": "markdown",
   "metadata": {},
   "source": [
    "# "
   ]
  },
  {
   "cell_type": "markdown",
   "metadata": {},
   "source": [
    "# Code to measure Entangling capacity of any Parameterized Quantum Circuit"
   ]
  },
  {
   "cell_type": "markdown",
   "metadata": {},
   "source": [
    "Sim et.al. in [1] proposed three metrics to represent Ansatz quality of variational circuits namely: Expressibility, Entangling capacity and circuit cost. This notebook implements the Entangling capacity metric that is very useful for any parameterized quantum circuit (or ansatz) for any variational quantum algorithm. While for some domain like physics or chemistry, there are domain-inspired ansatzes, for all other applications the choice of circuits is heuristic-based. With metrics like entangling capacity we can do correlation studies between such metrics and accuracy or precision-recall of an application and accordingly choose an ansatz for the variational algorithm in consideration for that application.\n",
    "\n",
    "\n",
    "In this notebook we have implemented these metrics and matched our numbers to that of this paper. We have two ways to compute Entangling capacity -using Meyer Wallach measure (as proposed in the paper[1]) and Von-Neumann measure.\n"
   ]
  },
  {
   "cell_type": "code",
   "execution_count": 1,
   "metadata": {},
   "outputs": [
    {
     "name": "stderr",
     "output_type": "stream",
     "text": [
      "/opt/anaconda3/envs/qiskit/lib/python3.6/site-packages/qiskit/__init__.py:66: DeprecationWarning: Using Qiskit with Python 3.6 is deprecated as of qiskit-terra 0.17.0. Support for running Qiskit with Python 3.6 will be removed in qiskit-terra 0.20.0.\n",
      "  DeprecationWarning,\n"
     ]
    }
   ],
   "source": [
    "from qiskit.quantum_info import partial_trace\n",
    "from qiskit import QuantumCircuit\n",
    "import qiskit.quantum_info as qi\n",
    "from qiskit import transpile\n",
    "from qiskit import Aer\n",
    "import numpy as np\n",
    "import matplotlib.pyplot as plt\n",
    "import pandas as pd"
   ]
  },
  {
   "cell_type": "markdown",
   "metadata": {},
   "source": [
    "The following cell implements entangling capacity using meyer-wallach measure for a statevector. It expects as input the statevector of $n$ qubits and the total number of qubits $n$ for calculating the the entangling capacity of a particular statevector using Meyer Wallach Measure.\n",
    "Meyer Wallach measure (this measure is also know as average bipartite entanglement measurement) and is defined by \n",
    "$\n",
    "\\begin{equation}\n",
    "    \\mathcal{Q}(|\\psi\\rangle) = 2 - \\frac{2}{n}\\sum_{i =1}^{n}Tr(\\rho_i^2)\n",
    "\\end{equation}\n",
    "$\n",
    "The above equation is the entanglement measurement over just one statevector of the system to get the entangling capability of a parameteric quantum circuit as given in paper[1], we sample over several iteration with different random parameters for the parametric gates and average it to the get the expectation of the entangling capability of the circuit with respect to Meyer - Wallach Measure.\n",
    "The key properties of using Meyer Wallach measure to calculate entangling capacity metric :\n",
    "\n",
    " 1. The value $\\mathcal{Q}$ is invariant under local unitaries.\n",
    " 2. It assumes it values between the range $0 \\ge \\mathcal{Q} \\le 1 $.\n",
    " 3. $\\mathcal{Q}(|\\psi\\rangle) = 0$ if and only if $|\\psi\\rangle$ is a product state.\n",
    "\n",
    " The Meyer-Wallach Measure find its application in quantum information processing due to following advantages:\n",
    " 1. Due to its nature its a average linear entropy over reduced qubits state i.e. $\\mathcal{Q} = \\{1 - tr\\{\\rho^2\\}\\}$, making it a standard measure over different applications and easy to compare  and comprehend values due to its linear scaling.\n",
    " 2. The Meyer-Wallach Measure can be applied as a tool for tracking convergence of pseudo-random circuit by comparing the Meyer Wallach Measure with respect to the the Haar Value(The average entanglement of Pseudo Random states $\\langle \\mathcal{Q}_R \\rangle$).\n",
    " 3. The Meyer-Wallach Measure gives us the global entanglement over the entire statevector. The average over the Parametric Quantum Circuit gives use the measure of the circuit give a quantification of the toal type and number of entangles states a particular circuit can generate.\n"
   ]
  },
  {
   "cell_type": "code",
   "execution_count": 2,
   "metadata": {},
   "outputs": [],
   "source": [
    "def compute_ptrace(ket: np.ndarray, num_qubits: int) -> float:\n",
    "    \"\"\"Return the values of entanglement capability using meyer-wallach measure.\n",
    "    Args:\n",
    "        ket : (numpy.ndarray or list);Vector of amplitudes in 2**N dimensions\n",
    "        num_qubits : (int)Number of qubits\n",
    "\n",
    "    Returns:\n",
    "        q: float; Q value for input ket\n",
    "    \"\"\"\n",
    "    \n",
    "\n",
    "    entanglement_sum = 0\n",
    "    for k in range(num_qubits):\n",
    "\n",
    "        trace_over = [q for q in range(num_qubits) if q != k]\n",
    "        rho_k = partial_trace(ket, trace_over).data\n",
    "        entanglement_sum += np.real((np.linalg.matrix_power(rho_k, 2)).trace())\n",
    "\n",
    "    q = 2 * (1 - (1 / num_qubits) * entanglement_sum)\n",
    "\n",
    "    return q\n"
   ]
  },
  {
   "cell_type": "markdown",
   "metadata": {},
   "source": [
    "The following cell implements entangling capacity using Von-Neumann entropy measure. It expects as input the statevector of $n$ qubits and the total number of qubits $n$ for calculating the the entangling capacity of a particular statevector using Von-Neumann Measure.\n",
    "Von-Neumann Measure measure (this measure is also know as Von-Neumann Shanon Entropy) and is defined by \n",
    "$\n",
    "\\begin{equation}\n",
    "    \\mathcal{Q}(|\\psi\\rangle) = -\\sum_{i=1}^{n}Tr\\{\\rho_i log_e (\\rho_i)\\}\n",
    "\\end{equation}\n",
    "$\n",
    "The Von-Neumann Measure find its application in quantum information processing due to following advantages:\n",
    "1. It gives the  local entanglement measure of each qubit by taking the partial trace of reduce density matric given an average over the entanglement capability over the different qubits in a particular statevector.\n",
    "2. This measure give different measure for different kinds of entanglement for e.g. $|\\psi\\rangle = \\frac{|00\\rangle_{1,2}+|11\\rangle_{1,2}}{\\sqrt{2}}\\otimes\\frac{|00\\rangle_{3,4}+|11\\rangle_{3,4}}{\\sqrt{2}}$ and the four qubit $GHZ$ state, the four qubit GHZ state give us a higher entanglement measure in the von-neumann measure as compared to Meyer-Wallach measure(which give 1 for both the states.). Hence, it is better able to distinguish between the different kinds of entanglement.\n"
   ]
  },
  {
   "cell_type": "code",
   "execution_count": 3,
   "metadata": {},
   "outputs": [],
   "source": [
    "def compute_vn_entropy(ket: np.ndarray, num_qubits: int) -> float:\n",
    "    \"\"\"Returns the entangling capabilility using von-neumann entropy.\n",
    "    Args:\n",
    "        ket : (numpy.ndarray or list);Vector of amplitudes in 2**N dimensions\n",
    "        num_qubits : (int)Number of qubits\n",
    "\n",
    "    Returns:\n",
    "        q: float; Q value for input ket\n",
    "    \"\"\"\n",
    "\n",
    "\n",
    "    qubit = list(range(num_qubits))  # list of qubits to trace over\n",
    "\n",
    "    vn_entropy = 0\n",
    "\n",
    "    for k in range(num_qubits):\n",
    "        rho_k = qi.partial_trace(ket, qubit[:k] + qubit[k + 1 :]).data\n",
    "        vn_entropy += qi.entropy(rho_k, base=np.exp(1))\n",
    "    q = vn_entropy / num_qubits\n",
    "    return q"
   ]
  },
  {
   "cell_type": "markdown",
   "metadata": {},
   "source": [
    "The following cells computes entanglement capacity given a parametric circuit, using Meyer Wallach Measure by sampling over different parameter values of the parametric quantum gates to give us an average measure of the Meyer Wallach measure we can expect from a particular parametric quantum circuit.\n",
    "The function takes as input the total no. of parameters which is also the number of samples , the parametric circuit whose entanglement measure we want to calculate and the backend which we want to use.\n",
    "Note: We can only use statevector backend to calculate the Entanglement measures."
   ]
  },
  {
   "cell_type": "code",
   "execution_count": 4,
   "metadata": {},
   "outputs": [],
   "source": [
    "def meyer_wallach(num_params, parametric_circuit, backend, feature_dim) -> float:\n",
    "        \"\"\"\n",
    "        Returns:\n",
    "                net_entanglement_cap: The meyer-wallach entangling capacity of the\n",
    "                                       given parametric circuit.\n",
    "        \"\"\"\n",
    "\n",
    "        entanglement_cap = []\n",
    "\n",
    "        for _ in range(num_params):\n",
    "            transpiled_circ = transpile(parametric_circuit, backend, optimization_level=3)\n",
    "            job_sim = backend.run(transpiled_circ)\n",
    "            result_sim = job_sim.result()\n",
    "\n",
    "            state_vector = result_sim.get_statevector(transpiled_circ)\n",
    "            state_vector = np.array(state_vector)\n",
    "\n",
    "            q_value = compute_ptrace(ket=state_vector, num_qubits=feature_dim)\n",
    "            entanglement_cap.append(q_value)\n",
    "\n",
    "        entanglement_cap = np.array(entanglement_cap)\n",
    "        net_entanglement_cap = np.sum(entanglement_cap) / num_params\n",
    "\n",
    "        return net_entanglement_cap"
   ]
  },
  {
   "cell_type": "markdown",
   "metadata": {},
   "source": [
    "The following cells computes entanglement capacity given a parametric circuit, using Von-Neumann Measure by sampling over different parameter values of the parametric quantum gates to give us an average measure of the Von-Neumann measure we can expect from a particular parametric quantum circuit.\n",
    "The function takes as input the total no. of parameters which is also the number of samples , the parametric circuit whose entanglement measure we want to calculate and the backend which we want to use.\n",
    "Note: We can only use statevector backend to calculate the Entanglement measures."
   ]
  },
  {
   "cell_type": "code",
   "execution_count": 5,
   "metadata": {},
   "outputs": [],
   "source": [
    "def von_neumann(num_params, parametric_circuit, backend, feature_dim) -> float:\n",
    "\n",
    "        \"\"\"\n",
    "        Returns:\n",
    "              net_entanglement_cap: The von_neumann entangling capacity of the given parametric circuit.\n",
    "        \"\"\"\n",
    "\n",
    "        entanglement_cap = []\n",
    "\n",
    "        for _ in range(num_params):\n",
    "\n",
    "            transpiled_circ = transpile(parametric_circuit, backend, optimization_level=3)\n",
    "            job_sim = backend.run(transpiled_circ)\n",
    "            result_sim = job_sim.result()\n",
    "\n",
    "            state_vector = result_sim.get_statevector(transpiled_circ)\n",
    "            state_vector = np.array(state_vector)\n",
    "\n",
    "            q_value = compute_vn_entropy(ket=state_vector, num_qubits=feature_dim)\n",
    "            entanglement_cap.append(q_value)\n",
    "\n",
    "        entanglement_cap = np.array(entanglement_cap)\n",
    "        net_entanglement_cap = np.sum(entanglement_cap) / num_params\n",
    "\n",
    "        return net_entanglement_cap"
   ]
  },
  {
   "cell_type": "code",
   "execution_count": 6,
   "metadata": {},
   "outputs": [
    {
     "name": "stdout",
     "output_type": "stream",
     "text": [
      "ent_cap: 1.0\n"
     ]
    },
    {
     "data": {
      "image/png": "[encoded data removed]",
      "text/plain": [
       "<Figure size 628.397x264.88 with 1 Axes>"
      ]
     },
     "execution_count": 6,
     "metadata": {},
     "output_type": "execute_result"
    }
   ],
   "source": [
    "feature_dim = 4 #feature dimension of the dataset; this will be equal to number of qubits while using Z or ZZ featuremap.\n",
    "repitition = 2 #no of layers needed\n",
    "\n",
    "# Defining Custom Parametric Quantum Circuit for its entanglement capability measurement\n",
    "\n",
    "num_pars = feature_dim * repitition\n",
    "paravec = np.random.randn(num_pars)\n",
    "arg_count = 0\n",
    "circ = QuantumCircuit(feature_dim)\n",
    "for _ in range(repitition):\n",
    "    for i in range(feature_dim):\n",
    "        circ.h(i)\n",
    "    for i in reversed(range(feature_dim - 1)):\n",
    "        circ.cz(i + 1, i)\n",
    "    for i in range(feature_dim):\n",
    "        circ.rx(paravec[arg_count], i)\n",
    "        arg_count += 1\n",
    "        \n",
    "backend = Aer.get_backend(\"statevector_simulator\")\n",
    "ent_cap = meyer_wallach(num_params = 500, parametric_circuit = circ, backend=backend, feature_dim = feature_dim)\n",
    "print(\"ent_cap:\", ent_cap)\n",
    "circ.draw(\"mpl\")"
   ]
  },
  {
   "cell_type": "markdown",
   "metadata": {},
   "source": [
    "In order to be able to reproduce the results of the paper [1], we provide an additional code ansatz.py which has the 19 parameterized quantum circuits given in the paper. The following cell imports the code and calculates the entanglinhg capacity of all the 19 circuits. \n",
    "\"circuit_id\" can be used if a particular ansatz from the benchmarked ansatz is required. else we can do it for all ansatzes of that code.\n",
    "\n",
    "feature dim: refers to the number of features in the input data. this is important to know as this determines the number of qubits in the circuit for Z and ZZ feature map. \n",
    "\n",
    "repetition: refers to the number of layers of ansatz required. Note: deeper ansatz get more noisy and circuit depth impacts results.\n",
    "\n",
    "num_eval: refers to the number of runs needed for the circuits. "
   ]
  },
  {
   "cell_type": "code",
   "execution_count": 8,
   "metadata": {},
   "outputs": [
    {
     "name": "stdout",
     "output_type": "stream",
     "text": [
      "ent_cap: [1.         1.         1.         0.60042865 0.74326439]\n"
     ]
    }
   ],
   "source": [
    "from parametric_circuits import Ansatz\n",
    "\n",
    "circuit_id = 9 # this will run the 9th PQC defined in the ansatz.py code\n",
    "feature_dim = 4\n",
    "repitition = 5\n",
    "num_eval = 1\n",
    "entanglement_cap = np.zeros(repitition)\n",
    "backend = Aer.get_backend(\"statevector_simulator\")\n",
    "\n",
    "for k in range(num_eval):\n",
    "    for layers in range(repitition):\n",
    "\n",
    "        ansatze = Ansatz(layers + 1, feature_dim, circuit_id).get_ansatz()\n",
    "        ent_cap = meyer_wallach(num_params = 500, parametric_circuit = ansatze, backend=backend, feature_dim = feature_dim)\n",
    "        entanglement_cap[layers] = ent_cap\n",
    "        ansatze.draw(\"mpl\")\n",
    "\n",
    "    file_name = \"MW_ansatz2\" #+ str(k)\n",
    "    np.savetxt(file_name + \".csv\", entanglement_cap, delimiter=\"\\t\")\n",
    "    print(\"ent_cap:\", entanglement_cap)"
   ]
  },
  {
   "cell_type": "markdown",
   "metadata": {},
   "source": [
    "To compute entangling capacity for all the 19 ansatz shown in paper and for as many layers as needed, please use the following cell and set the total_circuit to 19 and repitition to as many layers as needed. The number of evaluations can also be increased and a loop on top to be uncommented that will do that many number of evaluations, the mean of the results can then be reported. Also another parameter is num_params in the calculation of meyer_wallach function (decribed in detail in the meyer wallach function) that can be increased or decreased as per requirement."
   ]
  },
  {
   "cell_type": "code",
   "execution_count": 34,
   "metadata": {},
   "outputs": [],
   "source": [
    "from parametric_circuits import Ansatz\n",
    "import numpy as np\n",
    "from qiskit import Aer\n",
    "import pandas as pd\n",
    "\n",
    "\n",
    "total_circuit = 19 # to create a plot similar to Sim et.al's paper for all 19 ansatz\n",
    "feature_dim = 4 #signifies use of 4 qubits\n",
    "repitition = 2 #number of layers\n",
    "# num_eval = 1\n",
    "entanglement_cap = np.zeros((total_circuit, repitition))\n",
    "backend = Aer.get_backend(\"statevector_simulator\")\n",
    "entanglement_cap = np.zeros((total_circuit, repitition))\n",
    "\n",
    "# for k in range(num_eval):\n",
    "\n",
    "for i in range(total_circuit):\n",
    "    circuit_id = i + 1\n",
    "\n",
    "    for layers in range(repitition):\n",
    "\n",
    "        ansatze = Ansatz(layers + 1, feature_dim, circuit_id).get_ansatz()\n",
    "        ent_cap = meyer_wallach(num_params = 500, parametric_circuit = ansatze, backend=backend, feature_dim = feature_dim)\n",
    "        entanglement_cap[i, layers] = ent_cap\n",
    "\n",
    "index = [str(i+1) for i in range(total_circuit)]\n",
    "df = pd.DataFrame({'Layer1':entanglement_cap[:,0], \"Layer2\":entanglement_cap[:,1]}, index = index)\n",
    "file_name = \"entropy_run\" \n",
    "df.to_csv(file_name + \".csv\")"
   ]
  },
  {
   "cell_type": "markdown",
   "metadata": {},
   "source": [
    "we create the scatter plots as shown in paper, but we plot it for each layer separately for better visibility and understanding of layerwise change in entangling capacity of each of the 19 ansatzes. Our numbers are quite close to the numbers reported in paper and teh overall trend for all 19 ansatzes is similar as shown below:"
   ]
  },
  {
   "cell_type": "code",
   "execution_count": 37,
   "metadata": {},
   "outputs": [
    {
     "data": {
      "text/plain": [
       "Text(0, 0.5, 'Meyer-Wallach Measure of Entangling Capacity')"
      ]
     },
     "execution_count": 37,
     "metadata": {},
     "output_type": "execute_result"
    },
    {
     "data": {
      "image/png": "[encoded data removed]",
      "text/plain": [
       "<Figure size 432x288 with 1 Axes>"
      ]
     },
     "metadata": {
      "needs_background": "light"
     },
     "output_type": "display_data"
    }
   ],
   "source": [
    "ax = df.reset_index().plot.scatter(x = 'index', y = 'Layer1', marker = 'o')#, label = 'meyer-wallach')\n",
    "ax.set_xlabel(\"Circuit\")\n",
    "ax.set_ylabel(\"Meyer-Wallach Measure of Entangling Capacity\")"
   ]
  },
  {
   "cell_type": "code",
   "execution_count": 33,
   "metadata": {},
   "outputs": [
    {
     "data": {
      "text/plain": [
       "Text(0, 0.5, 'Meyer-Wallach Measure')"
      ]
     },
     "execution_count": 33,
     "metadata": {},
     "output_type": "execute_result"
    },
    {
     "data": {
      "image/png": "[encoded data removed]",
      "text/plain": [
       "<Figure size 432x288 with 1 Axes>"
      ]
     },
     "metadata": {
      "needs_background": "light"
     },
     "output_type": "display_data"
    }
   ],
   "source": [
    "ax = df.reset_index().plot.scatter(x = 'index', y = 'Layer2', marker = 'o')#, label = 'meyer-wallach')\n",
    "ax.set_xlabel(\"Circuit\")\n",
    "ax.set_ylabel(\"Meyer-Wallach Measure\")"
   ]
  },
  {
   "cell_type": "code",
   "execution_count": null,
   "metadata": {},
   "outputs": [],
   "source": []
  }
 ],
 "metadata": {
  "kernelspec": {
   "display_name": "Python 3",
   "language": "python",
   "name": "python3"
  },
  "language_info": {
   "codemirror_mode": {
    "name": "ipython",
    "version": 3
   },
   "file_extension": ".py",
   "mimetype": "text/x-python",
   "name": "python",
   "nbconvert_exporter": "python",
   "pygments_lexer": "ipython3",
   "version": "3.6.13"
  },
  "vscode": {
   "interpreter": {
    "hash": "7d3b8b0b17a73b27c675ad731f7f973f58a06bce747a783740f7b6d647f60952"
   }
  }
 },
 "nbformat": 4,
 "nbformat_minor": 2
}
